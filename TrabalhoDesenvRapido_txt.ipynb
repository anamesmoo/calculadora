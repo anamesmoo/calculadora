{
  "nbformat": 4,
  "nbformat_minor": 0,
  "metadata": {
    "colab": {
      "provenance": [],
      "mount_file_id": "1LbVVqR8g6MvR0nYZqDm__UpDUoZX3OnZ",
      "authorship_tag": "ABX9TyOcQIJY/JqdM4gDpZCTMP9s",
      "include_colab_link": true
    },
    "kernelspec": {
      "name": "python3",
      "display_name": "Python 3"
    },
    "language_info": {
      "name": "python"
    }
  },
  "cells": [
    {
      "cell_type": "markdown",
      "metadata": {
        "id": "view-in-github",
        "colab_type": "text"
      },
      "source": [
        "<a href=\"https://colab.research.google.com/github/anamesmoo/calculadora/blob/main/TrabalhoDesenvRapido_txt.ipynb\" target=\"_parent\"><img src=\"https://colab.research.google.com/assets/colab-badge.svg\" alt=\"Open In Colab\"/></a>"
      ]
    },
    {
      "cell_type": "code",
      "source": [
        "class Student:\n",
        "    def __init__(self, name, age, address):\n",
        "        self.name = name\n",
        "        self.age = age\n",
        "        self.address = address\n",
        "        self.assignments = {}\n",
        "\n",
        "    def add_assignment(self, assignment_name, grade='-'):\n",
        "        self.assignments[assignment_name] = grade\n",
        "\n",
        "    def remove_assignment(self, assignment_name):\n",
        "        if assignment_name in self.assignments:\n",
        "            del self.assignments[assignment_name]\n",
        "        else:\n",
        "            print(f\"No assignment named '{assignment_name}' found.\")\n",
        "\n",
        "    def set_grade(self, assignment_name, grade):\n",
        "        if assignment_name in self.assignments:\n",
        "            self.assignments[assignment_name] = grade\n",
        "        else:\n",
        "            print(f\"No assignment named '{assignment_name}' found.\")\n",
        "\n",
        "\n",
        "class Database:\n",
        "    def __init__(self):\n",
        "        self.students = {}\n",
        "\n",
        "    def add_student(self, student):\n",
        "        self.students[student.name] = student\n",
        "\n",
        "    def search_student(self, name):\n",
        "        if name in self.students:\n",
        "            return self.students[name]\n",
        "        else:\n",
        "            print(f\"No student named '{name}' found.\")\n",
        "\n",
        "    def remove_student(self, name):\n",
        "        if name in self.students:\n",
        "            del self.students[name]\n",
        "        else:\n",
        "            print(f\"No student named '{name}' found.\")\n",
        "\n",
        "\n",
        "def main():\n",
        "    db = Database()\n",
        "\n",
        "    while True:\n",
        "        print(\"\\nOptions:\")\n",
        "        print(\"1. Add student\")\n",
        "        print(\"2. Search student\")\n",
        "        print(\"3. Remove student\")\n",
        "        print(\"4. Add assignment\")\n",
        "        print(\"5. Remove assignment\")\n",
        "        print(\"6. Set grade\")\n",
        "        print(\"7. Exit\")\n",
        "\n",
        "        option = int(input(\"Enter your option: \"))\n",
        "\n",
        "        if option == 1:\n",
        "            name = input(\"Enter student's name: \")\n",
        "            age = int(input(\"Enter student's age: \"))\n",
        "            address = input(\"Enter student's address: \")\n",
        "            student = Student(name, age, address)\n",
        "            db.add_student(student)\n",
        "\n",
        "        elif option == 2:\n",
        "            name = input(\"Enter student's name: \")\n",
        "            student = db.search_student(name)\n",
        "            if student:\n",
        "                print(f\"Name: {student.name}\")\n",
        "                print(f\"Age: {student.age}\")\n",
        "                print(f\"Address: {student.address}\")\n",
        "                print(\"Assignments:\")\n",
        "                for assignment_name, grade in student.assignments.items():\n",
        "                    print(f\"{assignment_name}: {grade}\")\n",
        "\n",
        "        elif option == 3:\n",
        "            name = input(\"Enter student's name: \")\n",
        "            db.remove_student(name)\n",
        "\n",
        "        elif option == 4:\n",
        "            name = input(\"Enter student's name: \")\n",
        "            student = db.search_student(name)\n",
        "            if student:\n",
        "                assignment_name = input(\"Enter assignment's name: \")\n",
        "                student.add_assignment(assignment_name)\n",
        "\n",
        "        elif option == 5:\n",
        "            name = input(\"Enter student's name: \")\n",
        "            student = db.search_student(name)\n",
        "            if student:\n",
        "                assignment_name = input(\"Enter assignment's name: \")\n",
        "                student.remove_assignment(assignment_name)\n",
        "\n",
        "        elif option == 6:\n",
        "            name = input(\"Enter student's name: \")\n",
        "            student = db.search_student(name)\n",
        "            if student:\n",
        "                assignment_name = input(\"Enter assignment's name: \")\n",
        "                grade = input(\"Enter assignment's grade: \")\n",
        "                student.set_grade(assignment_name, grade)\n",
        "\n",
        "        elif option == 7:\n",
        "            break\n",
        "\n",
        "        else:\n",
        "            print(\"Invalid option. Please try again.\")\n",
        "\n",
        "\n",
        "if __name__ == \"__main__\":\n",
        "    main()"
      ],
      "metadata": {
        "colab": {
          "base_uri": "https://localhost:8080/",
          "height": 703
        },
        "id": "ikq2GJXhAtLy",
        "outputId": "973d6065-d01a-4901-b065-482e7ad5a562"
      },
      "execution_count": 2,
      "outputs": [
        {
          "output_type": "stream",
          "name": "stdout",
          "text": [
            "\n",
            "Options:\n",
            "1. Add student\n",
            "2. Search student\n",
            "3. Remove student\n",
            "4. Add assignment\n",
            "5. Remove assignment\n",
            "6. Set grade\n",
            "7. Exit\n",
            "Enter your option: 1\n",
            "Enter student's name: Ana \n",
            "Enter student's age: 19\n",
            "Enter student's address: rua nossa senhora\n",
            "\n",
            "Options:\n",
            "1. Add student\n",
            "2. Search student\n",
            "3. Remove student\n",
            "4. Add assignment\n",
            "5. Remove assignment\n",
            "6. Set grade\n",
            "7. Exit\n"
          ]
        },
        {
          "output_type": "error",
          "ename": "KeyboardInterrupt",
          "evalue": "Interrupted by user",
          "traceback": [
            "\u001b[0;31m---------------------------------------------------------------------------\u001b[0m",
            "\u001b[0;31mKeyboardInterrupt\u001b[0m                         Traceback (most recent call last)",
            "\u001b[0;32m<ipython-input-2-ed94d1fc51be>\u001b[0m in \u001b[0;36m<cell line: 110>\u001b[0;34m()\u001b[0m\n\u001b[1;32m    109\u001b[0m \u001b[0;34m\u001b[0m\u001b[0m\n\u001b[1;32m    110\u001b[0m \u001b[0;32mif\u001b[0m \u001b[0m__name__\u001b[0m \u001b[0;34m==\u001b[0m \u001b[0;34m\"__main__\"\u001b[0m\u001b[0;34m:\u001b[0m\u001b[0;34m\u001b[0m\u001b[0;34m\u001b[0m\u001b[0m\n\u001b[0;32m--> 111\u001b[0;31m     \u001b[0mmain\u001b[0m\u001b[0;34m(\u001b[0m\u001b[0;34m)\u001b[0m\u001b[0;34m\u001b[0m\u001b[0;34m\u001b[0m\u001b[0m\n\u001b[0m",
            "\u001b[0;32m<ipython-input-2-ed94d1fc51be>\u001b[0m in \u001b[0;36mmain\u001b[0;34m()\u001b[0m\n\u001b[1;32m     55\u001b[0m         \u001b[0mprint\u001b[0m\u001b[0;34m(\u001b[0m\u001b[0;34m\"7. Exit\"\u001b[0m\u001b[0;34m)\u001b[0m\u001b[0;34m\u001b[0m\u001b[0;34m\u001b[0m\u001b[0m\n\u001b[1;32m     56\u001b[0m \u001b[0;34m\u001b[0m\u001b[0m\n\u001b[0;32m---> 57\u001b[0;31m         \u001b[0moption\u001b[0m \u001b[0;34m=\u001b[0m \u001b[0mint\u001b[0m\u001b[0;34m(\u001b[0m\u001b[0minput\u001b[0m\u001b[0;34m(\u001b[0m\u001b[0;34m\"Enter your option: \"\u001b[0m\u001b[0;34m)\u001b[0m\u001b[0;34m)\u001b[0m\u001b[0;34m\u001b[0m\u001b[0;34m\u001b[0m\u001b[0m\n\u001b[0m\u001b[1;32m     58\u001b[0m \u001b[0;34m\u001b[0m\u001b[0m\n\u001b[1;32m     59\u001b[0m         \u001b[0;32mif\u001b[0m \u001b[0moption\u001b[0m \u001b[0;34m==\u001b[0m \u001b[0;36m1\u001b[0m\u001b[0;34m:\u001b[0m\u001b[0;34m\u001b[0m\u001b[0;34m\u001b[0m\u001b[0m\n",
            "\u001b[0;32m/usr/local/lib/python3.10/dist-packages/ipykernel/kernelbase.py\u001b[0m in \u001b[0;36mraw_input\u001b[0;34m(self, prompt)\u001b[0m\n\u001b[1;32m    849\u001b[0m                 \u001b[0;34m\"raw_input was called, but this frontend does not support input requests.\"\u001b[0m\u001b[0;34m\u001b[0m\u001b[0;34m\u001b[0m\u001b[0m\n\u001b[1;32m    850\u001b[0m             )\n\u001b[0;32m--> 851\u001b[0;31m         return self._input_request(str(prompt),\n\u001b[0m\u001b[1;32m    852\u001b[0m             \u001b[0mself\u001b[0m\u001b[0;34m.\u001b[0m\u001b[0m_parent_ident\u001b[0m\u001b[0;34m,\u001b[0m\u001b[0;34m\u001b[0m\u001b[0;34m\u001b[0m\u001b[0m\n\u001b[1;32m    853\u001b[0m             \u001b[0mself\u001b[0m\u001b[0;34m.\u001b[0m\u001b[0m_parent_header\u001b[0m\u001b[0;34m,\u001b[0m\u001b[0;34m\u001b[0m\u001b[0;34m\u001b[0m\u001b[0m\n",
            "\u001b[0;32m/usr/local/lib/python3.10/dist-packages/ipykernel/kernelbase.py\u001b[0m in \u001b[0;36m_input_request\u001b[0;34m(self, prompt, ident, parent, password)\u001b[0m\n\u001b[1;32m    893\u001b[0m             \u001b[0;32mexcept\u001b[0m \u001b[0mKeyboardInterrupt\u001b[0m\u001b[0;34m:\u001b[0m\u001b[0;34m\u001b[0m\u001b[0;34m\u001b[0m\u001b[0m\n\u001b[1;32m    894\u001b[0m                 \u001b[0;31m# re-raise KeyboardInterrupt, to truncate traceback\u001b[0m\u001b[0;34m\u001b[0m\u001b[0;34m\u001b[0m\u001b[0m\n\u001b[0;32m--> 895\u001b[0;31m                 \u001b[0;32mraise\u001b[0m \u001b[0mKeyboardInterrupt\u001b[0m\u001b[0;34m(\u001b[0m\u001b[0;34m\"Interrupted by user\"\u001b[0m\u001b[0;34m)\u001b[0m \u001b[0;32mfrom\u001b[0m \u001b[0;32mNone\u001b[0m\u001b[0;34m\u001b[0m\u001b[0;34m\u001b[0m\u001b[0m\n\u001b[0m\u001b[1;32m    896\u001b[0m             \u001b[0;32mexcept\u001b[0m \u001b[0mException\u001b[0m \u001b[0;32mas\u001b[0m \u001b[0me\u001b[0m\u001b[0;34m:\u001b[0m\u001b[0;34m\u001b[0m\u001b[0;34m\u001b[0m\u001b[0m\n\u001b[1;32m    897\u001b[0m                 \u001b[0mself\u001b[0m\u001b[0;34m.\u001b[0m\u001b[0mlog\u001b[0m\u001b[0;34m.\u001b[0m\u001b[0mwarning\u001b[0m\u001b[0;34m(\u001b[0m\u001b[0;34m\"Invalid Message:\"\u001b[0m\u001b[0;34m,\u001b[0m \u001b[0mexc_info\u001b[0m\u001b[0;34m=\u001b[0m\u001b[0;32mTrue\u001b[0m\u001b[0;34m)\u001b[0m\u001b[0;34m\u001b[0m\u001b[0;34m\u001b[0m\u001b[0m\n",
            "\u001b[0;31mKeyboardInterrupt\u001b[0m: Interrupted by user"
          ]
        }
      ]
    },
    {
      "cell_type": "markdown",
      "source": [
        "Este código cria um arquivo de banco de dados SQLite chamado students.dbe define duas funções: add_studente get_grade. A add_studentfunção pega o nome e a nota do aluno como argumentos e os insere na studentstabela. A get_gradefunção recebe o nome do aluno como argumento e retorna sua nota na studentstabela."
      ],
      "metadata": {
        "id": "gL-EhIGv9xH1"
      }
    }
  ]
}